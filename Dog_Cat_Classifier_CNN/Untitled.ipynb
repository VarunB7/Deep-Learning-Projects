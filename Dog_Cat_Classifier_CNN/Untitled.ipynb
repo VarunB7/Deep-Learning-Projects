{
 "cells": [
  {
   "cell_type": "code",
   "execution_count": 1,
   "metadata": {},
   "outputs": [],
   "source": [
    "#Import the required libraries\n",
    "import numpy as np\n",
    "import tensorflow as tf\n",
    "from keras.preprocessing.image import ImageDataGenerator"
   ]
  },
  {
   "cell_type": "code",
   "execution_count": 2,
   "metadata": {},
   "outputs": [],
   "source": [
    "#Data Preprocesssing\n",
    "#Preprocessing the training set\n",
    "train_datagen = ImageDataGenerator(\n",
    "        rescale=1./255,\n",
    "        shear_range=0.2,\n",
    "        zoom_range=0.2,\n",
    "        horizontal_flip=True)"
   ]
  },
  {
   "cell_type": "code",
   "execution_count": 3,
   "metadata": {},
   "outputs": [
    {
     "name": "stdout",
     "output_type": "stream",
     "text": [
      "Found 8000 images belonging to 2 classes.\n",
      "Found 2000 images belonging to 2 classes.\n"
     ]
    }
   ],
   "source": [
    "#Flow from directory connects from image dataset to image augmentation process\n",
    "#Target Size is final size before being fed into NN\n",
    "#Batch size is how many at a time, binary as it needs to detect dog or cat\n",
    "training_set = train_datagen.flow_from_directory(\n",
    "        r'C:\\Users\\hp\\Desktop\\MLDL\\Datasets\\CNN\\dataset\\training_set',\n",
    "        target_size=(64, 64),\n",
    "        batch_size=32,\n",
    "        class_mode='binary')\n",
    "\n",
    "#The test scale needs to be scaled before using it, no oother transformation is to be applied in order to avoid information leakage\n",
    "test_datagen = ImageDataGenerator(rescale=1./255)\n",
    "test_set = train_datagen.flow_from_directory(\n",
    "        r'C:\\Users\\hp\\Desktop\\MLDL\\Datasets\\CNN\\dataset\\test_set',\n",
    "        target_size=(64, 64),\n",
    "        batch_size=32,\n",
    "        class_mode='binary')"
   ]
  },
  {
   "cell_type": "code",
   "execution_count": 4,
   "metadata": {},
   "outputs": [],
   "source": [
    "#Building the CNN\n",
    "cnn = tf.keras.models.Sequential()\n",
    "\n",
    "#Convolutional Layer\n",
    "#Filter = No of filters(Feature Detectors) to be used\n",
    "#Kernel size is the size of the Feature detector matrix\n",
    "#Strides is the movement parameter for filters while doing convolution\n",
    "#Activation function is relu for hidden layers\n",
    "cnn.add(tf.keras.layers.Conv2D(filters = 32,kernel_size = 3, activation = 'relu', input_shape = [64,64,3]))\n",
    "\n",
    "#Pooling Layer\n",
    "#Pool size is the matrix size used on feature map while pooling\n",
    "#The stride is also to be taken into consideration\n",
    "#Padding ifthe pool matrix doesnt have further pixels, it will either ignore or consider them as zero based on parameter set\n",
    "cnn.add(tf.keras.layers.MaxPool2D(pool_size = 2,strides = 2))\n",
    "\n",
    "#Add second convolutional layer with max pooling\n",
    "cnn.add(tf.keras.layers.Conv2D(filters = 32,kernel_size = 3, activation = 'relu'))\n",
    "cnn.add(tf.keras.layers.MaxPool2D(pool_size = 2,strides = 2))\n",
    "\n",
    "#Flattening the pooled data\n",
    "cnn.add(tf.keras.layers.Flatten())\n",
    "\n",
    "#Connecting all the layers of the neural network\n",
    "cnn.add(tf.keras.layers.Dense(units = 128, activation = 'relu'))\n",
    "\n",
    "#Final Output Layer \n",
    "cnn.add(tf.keras.layers.Dense(units = 1, activation = 'sigmoid'))\n"
   ]
  },
  {
   "cell_type": "code",
   "execution_count": null,
   "metadata": {},
   "outputs": [],
   "source": [
    "#################\n",
    "#Training the CNN\n",
    "#Compile the CNN\n",
    "cnn.compile(optimizer = 'adam',loss = 'binary_crossentropy',metrics = ['accuracy'])\n",
    "\n",
    "#Training the dataset and evaluating result\n",
    "cnn.fit(x = training_set, validation_data = test_set, epochs = 5)\n"
   ]
  },
  {
   "cell_type": "code",
   "execution_count": 5,
   "metadata": {},
   "outputs": [],
   "source": [
    "\n",
    "#####################################\n",
    "#Making Predictions using test sample\n",
    "from keras.preprocessing import image\n",
    "#test_image = image.load_img(r'C:\\Users\\hp\\Desktop\\MLDL\\Datasets\\CNN\\dataset\\single_prediction\\cat_or_dog_1.jpg',target_size = (64,64))\n",
    "#test_image = image.img_to_array(test_image)\n",
    "#Batch needs to be added as an extra image\n",
    "#test_image = np.expand_dims(test_image, axis = 0)\n",
    "#result = cnn.predict(test_image)\n",
    "#training_set.class_indices\n",
    "\n",
    "# if result[0][0] == 1:\n",
    "#     prediction = 'dog'\n",
    "# else:\n",
    "#     prediction = 'cat'"
   ]
  },
  {
   "cell_type": "code",
   "execution_count": null,
   "metadata": {},
   "outputs": [],
   "source": []
  }
 ],
 "metadata": {
  "kernelspec": {
   "display_name": "Python 3",
   "language": "python",
   "name": "python3"
  },
  "language_info": {
   "codemirror_mode": {
    "name": "ipython",
    "version": 3
   },
   "file_extension": ".py",
   "mimetype": "text/x-python",
   "name": "python",
   "nbconvert_exporter": "python",
   "pygments_lexer": "ipython3",
   "version": "3.7.6"
  }
 },
 "nbformat": 4,
 "nbformat_minor": 4
}
